{
 "cells": [
  {
   "cell_type": "code",
   "execution_count": null,
   "metadata": {},
   "outputs": [
    {
     "name": "stdout",
     "output_type": "stream",
     "text": [
      "Solving environment: / "
     ]
    }
   ],
   "source": [
    "import numpy as np  # useful for many scientific computing in Python\n",
    "import pandas as pd # primary data structure library\n",
    "\n",
    "!conda install -c conda-forge folium=0.5.0 --yes\n",
    "import folium\n",
    "print('Folium installed and imported!')\n",
    "\n",
    "df_incidents = pd.read_csv('https://s3-api.us-geo.objectstorage.softlayer.net/cf-courses-data/CognitiveClass/DV0101EN/labs/Data_Files/Police_Department_Incidents_-_Previous_Year__2016_.csv')\n",
    "print('Dataset downloaded and read into a pandas dataframe!')\n",
    "\n",
    "# San Francisco latitude and longitude values\n",
    "latitude = 37.77\n",
    "longitude = -122.42\n",
    "\n",
    "# create map and display it\n",
    "sanfran_map = folium.Map(location=[latitude, longitude], zoom_start=12)\n",
    "# display the map of San Francisco\n",
    "sanfran_map\n",
    "\n",
    "#!wget --quiet https://https://cocl.us/sanfran_geojson -O sf_n.json\n",
    "#print('GeoJSON file downloaded!')\n",
    "sf_geo = 'san-francisco.geojson'\n",
    "\n",
    "sf = df_incidents.groupby('PdDistrict').count()\n",
    "sf = pd.DataFrame(sf,columns=['Category'])  # remove unneeded columns\n",
    "sf.reset_index(inplace=True)   # default index, otherwise groupby column becomes index\n",
    "sf.rename(columns={'PdDistrict':'Neighborhood','Category':'Count'}, inplace=True)\n",
    "sf.sort_values(by='Count', inplace=True, ascending=False)\n",
    "\n",
    "sf\n",
    "\n",
    "sanfran_map.choropleth(\n",
    "    geo_data=sf_geo,\n",
    "    data=sf,\n",
    "    columns=['Neighborhood', 'Count'],\n",
    "    key_on='feature.properties.DISTRICT',\n",
    "    fill_color='YlOrRd', \n",
    "    fill_opacity=0.7, \n",
    "    line_opacity=0.2,\n",
    "    legend_name='San Francisco crime map'\n",
    ")\n",
    "\n",
    "sanfran_map"
   ]
  },
  {
   "cell_type": "code",
   "execution_count": null,
   "metadata": {},
   "outputs": [],
   "source": []
  }
 ],
 "metadata": {
  "kernelspec": {
   "display_name": "Python",
   "language": "python",
   "name": "conda-env-python-py"
  },
  "language_info": {
   "codemirror_mode": {
    "name": "ipython",
    "version": 3
   },
   "file_extension": ".py",
   "mimetype": "text/x-python",
   "name": "python",
   "nbconvert_exporter": "python",
   "pygments_lexer": "ipython3",
   "version": "3.6.7"
  }
 },
 "nbformat": 4,
 "nbformat_minor": 4
}
